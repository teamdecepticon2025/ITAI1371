{
  "cells": [
    {
      "cell_type": "markdown",
      "metadata": {
        "id": "3AmpvtTsS-yG"
      },
      "source": [
        "<center><img src=\"images/logo.png\" alt=\"drawing\" width=\"400\" style=\"background-color:white; padding:1em;\" /></center> <br/>\n",
        "\n",
        "# ML through Application\n",
        "## Module 1, Lab 3: Getting Started with AutoGluon\n",
        "\n",
        "This notebook covers how to create a model to solve an ML problem by using [AutoGluon](https://auto.gluon.ai/stable/index.html#).\n",
        "\n",
        "You will learn how to do the following:\n",
        "\n",
        "- Import the AutoGluon library.\n",
        "- Import data to a Pandas DataFrame.\n",
        "- Train a model by using AutoGluon.\n",
        "\n",
        "---\n",
        "\n",
        "You will explore a dataset that contains information about books. The goal is to predict book prices by using features about the books.\n",
        "\n",
        "__Business problem:__ Books from a large database with several features cannot be listed for sale because one critical piece of information is missing: the price.\n",
        "\n",
        "__ML problem description:__ Predict book prices by using book features, such as genre, release data, ratings, and number of reviews.\n",
        "\n",
        "This is a regression task (the training dataset has a book price column to use for labels).\n",
        "\n",
        "----\n",
        "\n",
        "You will be presented with two kinds of exercises throughout the notebook: activities and challenges. <br/>\n",
        "\n",
        "| <img style=\"float: center;\" src=\"images/activity.png\" alt=\"Activity\" width=\"125\"/>| <img style=\"float: center;\" src=\"images/challenge.png\" alt=\"Challenge\" width=\"125\"/>|\n",
        "| --- | --- |\n",
        "|<p style=\"text-align:center;\">No coding is needed for an activity. You try to understand a concept, <br/>answer questions, or run a code cell.</p> |<p style=\"text-align:center;\">Challenges are where you can practice your coding skills.</p>"
      ]
    },
    {
      "cell_type": "markdown",
      "metadata": {
        "id": "Lz2V6nH0S-yH"
      },
      "source": [
        "## Index\n",
        "- [Importing AutoGluon](#Importing-AutoGluon)\n",
        "- [Getting the data](#Getting-the-data)\n",
        "- [Model training with AutoGluon](#Model-training-with-AutoGluon)"
      ]
    },
    {
      "cell_type": "markdown",
      "metadata": {
        "id": "YZ_vGQuyS-yH"
      },
      "source": [
        "---\n",
        "## Importing AutoGluon\n",
        "\n",
        "Install and load the libraries that are needed to work with the tabular dataset."
      ]
    },
    {
      "cell_type": "code",
      "execution_count": 4,
      "metadata": {
        "id": "eGpp_fdCS-yH",
        "tags": []
      },
      "outputs": [],
      "source": [
        "%%capture\n",
        "# Use pip to install libraries\n",
        "!pip install autogluon\n",
        "!pip install tabulate"
      ]
    },
    {
      "cell_type": "code",
      "execution_count": 5,
      "metadata": {
        "id": "JW9yz6dWS-yH",
        "tags": []
      },
      "outputs": [
        {
          "name": "stdout",
          "output_type": "stream",
          "text": [
            "The autoreload extension is already loaded. To reload it, use:\n",
            "  %reload_ext autoreload\n"
          ]
        }
      ],
      "source": [
        "# Import the libraries that are needed for the notebook\n",
        "%load_ext autoreload\n",
        "import pandas as pd\n",
        "# Import utility functions and challenge questions\n",
        "#from MLUMLA_EN_M1_Lab3_quiz_questions import *\n",
        "\n",
        "# Import the newly installed AutoGluon code library\n",
        "from autogluon.tabular import TabularPredictor, TabularDataset"
      ]
    },
    {
      "cell_type": "markdown",
      "metadata": {
        "id": "bzWyXew3S-yI"
      },
      "source": [
        "---\n",
        "## Getting the data\n",
        "\n",
        "Now get the data for the business problem.\n",
        "\n",
        "__Note:__ You will use the [Amazon Product Reviews](https://cseweb.ucsd.edu/~jmcauley/datasets.html#amazon_reviews) dataset. For more information about this dataset, see the following resources:\n",
        "\n",
        "- Ruining He and Julian McAuley. \"Ups and Downs: Modeling the Visual Evolution of Fashion Trends with One-Class Collaborative Filtering.\" Proceedings of the 25th International Conference on World Wide Web, Geneva, Switzerland, April 2016. https://doi.org/10.1145/2872427.2883037.\n",
        "\n",
        "- Julian McAuley, Christopher Targett, Qinfeng Shi, Anton van den Hengel. \"Image-Based Recommendations on Styles and Substitutes.\" Proceedings of the 38th International Association for Computing Machinery (ACM) Special Interest Group on Information Retrieval (SIGIR) Conference on Research and Development in Information Retrieval, Santiago, Chile, August 2015. https://doi.org/10.1145/2766462.2767755."
      ]
    },
    {
      "cell_type": "markdown",
      "metadata": {
        "id": "_Rsc5scPS-yI"
      },
      "source": [
        "To load the training and test data, and then show the first few rows of the training dataset, run the following cells."
      ]
    },
    {
      "cell_type": "code",
      "execution_count": 6,
      "metadata": {
        "id": "OQnZkAyPS-yI"
      },
      "outputs": [],
      "source": [
        "df_train = TabularDataset(data=\"data/train.csv\")\n",
        "df_test = TabularDataset(data=\"data/test.csv\")"
      ]
    },
    {
      "cell_type": "code",
      "execution_count": 7,
      "metadata": {
        "id": "gi40opUmS-yI"
      },
      "outputs": [
        {
          "data": {
            "text/html": [
              "<div>\n",
              "<style scoped>\n",
              "    .dataframe tbody tr th:only-of-type {\n",
              "        vertical-align: middle;\n",
              "    }\n",
              "\n",
              "    .dataframe tbody tr th {\n",
              "        vertical-align: top;\n",
              "    }\n",
              "\n",
              "    .dataframe thead th {\n",
              "        text-align: right;\n",
              "    }\n",
              "</style>\n",
              "<table border=\"1\" class=\"dataframe\">\n",
              "  <thead>\n",
              "    <tr style=\"text-align: right;\">\n",
              "      <th></th>\n",
              "      <th>category</th>\n",
              "      <th>title</th>\n",
              "      <th>also_buy</th>\n",
              "      <th>brand</th>\n",
              "      <th>rank</th>\n",
              "      <th>also_view</th>\n",
              "      <th>main_cat</th>\n",
              "      <th>Price</th>\n",
              "      <th>asin</th>\n",
              "      <th>details</th>\n",
              "      <th>descriptionstring</th>\n",
              "    </tr>\n",
              "  </thead>\n",
              "  <tbody>\n",
              "    <tr>\n",
              "      <th>0</th>\n",
              "      <td>[]</td>\n",
              "      <td>Books\" /&gt;</td>\n",
              "      <td>[]</td>\n",
              "      <td>Joan M. Lexau</td>\n",
              "      <td>1,683,587 in Books (</td>\n",
              "      <td>['0590457292']</td>\n",
              "      <td>Books</td>\n",
              "      <td>5.48</td>\n",
              "      <td>B001D4OHQA</td>\n",
              "      <td>{'Publisher:': 'Scholastic (1974)', 'Language:...</td>\n",
              "      <td>Staining on cover, minimal wear and creasing. ...</td>\n",
              "    </tr>\n",
              "    <tr>\n",
              "      <th>1</th>\n",
              "      <td>['Books', 'Education &amp; Teaching', 'Schools &amp; T...</td>\n",
              "      <td>The Core Knowledge Sequence Content and Skill ...</td>\n",
              "      <td>['0325008957', '1138188492', '1890517208', '14...</td>\n",
              "      <td>Core Knowledge Foundation</td>\n",
              "      <td>974,014 in Books (</td>\n",
              "      <td>['0385316402', '1890517208', '1933486058', '19...</td>\n",
              "      <td>Books</td>\n",
              "      <td>21.40</td>\n",
              "      <td>B0071QRBFS</td>\n",
              "      <td>{'Paperback:': '400 pages', 'Publisher:': 'Cor...</td>\n",
              "      <td>A double volume with two &amp;quot;front covers.&amp;q...</td>\n",
              "    </tr>\n",
              "    <tr>\n",
              "      <th>2</th>\n",
              "      <td>[]</td>\n",
              "      <td>Stranger In The Woods</td>\n",
              "      <td>[]</td>\n",
              "      <td>Leah Fried</td>\n",
              "      <td>17,588,750 in Books (</td>\n",
              "      <td>[]</td>\n",
              "      <td>Books</td>\n",
              "      <td>17.00</td>\n",
              "      <td>965906523X</td>\n",
              "      <td>{'Hardcover:': '202 pages', 'Publisher:': 'Fel...</td>\n",
              "      <td>Stranger in the woods is a dramatic tale of co...</td>\n",
              "    </tr>\n",
              "    <tr>\n",
              "      <th>3</th>\n",
              "      <td>[]</td>\n",
              "      <td>Hansel and Gretel :  A Fairy Opera, Vocal Score</td>\n",
              "      <td>[]</td>\n",
              "      <td>Adelheid ; Bache, Constance ; Humperdinck, E. ...</td>\n",
              "      <td>3,680,123 in Books (</td>\n",
              "      <td>['0793506603']</td>\n",
              "      <td>Books</td>\n",
              "      <td>10.95</td>\n",
              "      <td>B0011ZV86I</td>\n",
              "      <td>{'Publisher:': 'G. Schirmer, Inc. (1957)', 'AS...</td>\n",
              "      <td>Complete vocal score, words and music.</td>\n",
              "    </tr>\n",
              "    <tr>\n",
              "      <th>4</th>\n",
              "      <td>['Books', 'History', 'Asia']</td>\n",
              "      <td>Genghis Khan - Conqueror Of The World</td>\n",
              "      <td>[]</td>\n",
              "      <td>Leo De Hartog</td>\n",
              "      <td>5,083,249 in Books (</td>\n",
              "      <td>[]</td>\n",
              "      <td>Books</td>\n",
              "      <td>3.50</td>\n",
              "      <td>B001LIQC7A</td>\n",
              "      <td>{'Hardcover:': '230 pages', 'Publisher:': 'Bar...</td>\n",
              "      <td>a great biography of Ghengis Khan</td>\n",
              "    </tr>\n",
              "  </tbody>\n",
              "</table>\n",
              "</div>"
            ],
            "text/plain": [
              "                                            category  \\\n",
              "0                                                 []   \n",
              "1  ['Books', 'Education & Teaching', 'Schools & T...   \n",
              "2                                                 []   \n",
              "3                                                 []   \n",
              "4                       ['Books', 'History', 'Asia']   \n",
              "\n",
              "                                               title  \\\n",
              "0                                          Books\" />   \n",
              "1  The Core Knowledge Sequence Content and Skill ...   \n",
              "2                              Stranger In The Woods   \n",
              "3    Hansel and Gretel :  A Fairy Opera, Vocal Score   \n",
              "4              Genghis Khan - Conqueror Of The World   \n",
              "\n",
              "                                            also_buy  \\\n",
              "0                                                 []   \n",
              "1  ['0325008957', '1138188492', '1890517208', '14...   \n",
              "2                                                 []   \n",
              "3                                                 []   \n",
              "4                                                 []   \n",
              "\n",
              "                                               brand                   rank  \\\n",
              "0                                      Joan M. Lexau   1,683,587 in Books (   \n",
              "1                          Core Knowledge Foundation     974,014 in Books (   \n",
              "2                                         Leah Fried  17,588,750 in Books (   \n",
              "3  Adelheid ; Bache, Constance ; Humperdinck, E. ...   3,680,123 in Books (   \n",
              "4                                      Leo De Hartog   5,083,249 in Books (   \n",
              "\n",
              "                                           also_view main_cat  Price  \\\n",
              "0                                     ['0590457292']    Books   5.48   \n",
              "1  ['0385316402', '1890517208', '1933486058', '19...    Books  21.40   \n",
              "2                                                 []    Books  17.00   \n",
              "3                                     ['0793506603']    Books  10.95   \n",
              "4                                                 []    Books   3.50   \n",
              "\n",
              "         asin                                            details  \\\n",
              "0  B001D4OHQA  {'Publisher:': 'Scholastic (1974)', 'Language:...   \n",
              "1  B0071QRBFS  {'Paperback:': '400 pages', 'Publisher:': 'Cor...   \n",
              "2  965906523X  {'Hardcover:': '202 pages', 'Publisher:': 'Fel...   \n",
              "3  B0011ZV86I  {'Publisher:': 'G. Schirmer, Inc. (1957)', 'AS...   \n",
              "4  B001LIQC7A  {'Hardcover:': '230 pages', 'Publisher:': 'Bar...   \n",
              "\n",
              "                                   descriptionstring  \n",
              "0  Staining on cover, minimal wear and creasing. ...  \n",
              "1  A double volume with two &quot;front covers.&q...  \n",
              "2  Stranger in the woods is a dramatic tale of co...  \n",
              "3             Complete vocal score, words and music.  \n",
              "4                  a great biography of Ghengis Khan  "
            ]
          },
          "execution_count": 7,
          "metadata": {},
          "output_type": "execute_result"
        }
      ],
      "source": [
        "df_train.head()"
      ]
    },
    {
      "cell_type": "markdown",
      "metadata": {
        "id": "C5fs04Z7S-yI"
      },
      "source": [
        "<div style=\"border: 4px solid coral; text-align: center; margin: auto;\">\n",
        "    <h3><i>It's time to check your knowledge!</i></h3>\n",
        "    <br>\n",
        "    <p style=\" text-align: center; margin: auto;\">To load the question, run the following cell.</p>\n",
        "    <br>\n",
        "</div>"
      ]
    },
    {
      "cell_type": "code",
      "execution_count": 8,
      "metadata": {
        "id": "4GtiujxVS-yI"
      },
      "outputs": [],
      "source": [
        "# Run this cell for a knowledge check question\n"
      ]
    },
    {
      "cell_type": "markdown",
      "metadata": {
        "id": "JtHQvUGRS-yI"
      },
      "source": [
        "---\n",
        "## Model training with AutoGluon\n",
        "\n",
        "You can use AutoGluon to train a model by using a single line of code. You need to provide the dataset and tell AutoGluon which column from the dataset you are trying to predict."
      ]
    },
    {
      "cell_type": "markdown",
      "metadata": {
        "id": "A7sCDsdkS-yI"
      },
      "source": [
        "<div style=\"border: 4px solid coral; text-align: center; margin: auto;\">\n",
        "    <h3><i>Try it yourself!</i></h3>\n",
        "    <br>\n",
        "    <p style=\"text-align:center;margin:auto;\"><img src=\"images/activity.png\" alt=\"Activity\" width=\"100\" /> </p>\n",
        "    <p style=\" text-align: center; margin: auto;\">To prepare the datasets, run the following cell.<br/>\n",
        "        This step is not required for AutoGluon to work, but it will reduce the time to train your first model.<br/>\n",
        "The code randomly selects 1,000 rows from the dataset and splits them into training and validation datasets.</p>\n",
        "    <br>\n",
        "</div>"
      ]
    },
    {
      "cell_type": "code",
      "execution_count": 9,
      "metadata": {
        "id": "aTmot2cRS-yI"
      },
      "outputs": [
        {
          "data": {
            "text/html": [
              "<div>\n",
              "<style scoped>\n",
              "    .dataframe tbody tr th:only-of-type {\n",
              "        vertical-align: middle;\n",
              "    }\n",
              "\n",
              "    .dataframe tbody tr th {\n",
              "        vertical-align: top;\n",
              "    }\n",
              "\n",
              "    .dataframe thead th {\n",
              "        text-align: right;\n",
              "    }\n",
              "</style>\n",
              "<table border=\"1\" class=\"dataframe\">\n",
              "  <thead>\n",
              "    <tr style=\"text-align: right;\">\n",
              "      <th></th>\n",
              "      <th>category</th>\n",
              "      <th>title</th>\n",
              "      <th>also_buy</th>\n",
              "      <th>brand</th>\n",
              "      <th>rank</th>\n",
              "      <th>also_view</th>\n",
              "      <th>main_cat</th>\n",
              "      <th>Price</th>\n",
              "      <th>asin</th>\n",
              "      <th>details</th>\n",
              "      <th>descriptionstring</th>\n",
              "    </tr>\n",
              "  </thead>\n",
              "  <tbody>\n",
              "    <tr>\n",
              "      <th>398</th>\n",
              "      <td>[]</td>\n",
              "      <td>Every Last One (Audiobook CD)</td>\n",
              "      <td>['1491546336', '1600244041', '1524754668', '14...</td>\n",
              "      <td>Visit Amazon's -Anna Quindlen- Page</td>\n",
              "      <td>6,392,575 in Books (</td>\n",
              "      <td>['0812985907', '0525509879', '0812976185', '08...</td>\n",
              "      <td>Books</td>\n",
              "      <td>23.84</td>\n",
              "      <td>B003SFS8F8</td>\n",
              "      <td>{'Publisher:': 'Unabridged edition; Unabridged...</td>\n",
              "      <td>The latest novel from Pulitzer Prize-winner An...</td>\n",
              "    </tr>\n",
              "    <tr>\n",
              "      <th>3833</th>\n",
              "      <td>[]</td>\n",
              "      <td>Books\" /&gt;</td>\n",
              "      <td>['0441810764', '0312863551', '0441094996', '04...</td>\n",
              "      <td>Robert A Heinlein</td>\n",
              "      <td>4,893,400 in Books (</td>\n",
              "      <td>['0441810764', '0312863551', '0671577808', '04...</td>\n",
              "      <td>Books</td>\n",
              "      <td>6.74</td>\n",
              "      <td>B001R2GZA4</td>\n",
              "      <td>{'Publisher:': 'SIGNET BOOKS (1900)', 'ASIN:':...</td>\n",
              "      <td>Classic science fiction novel.</td>\n",
              "    </tr>\n",
              "    <tr>\n",
              "      <th>4836</th>\n",
              "      <td>['Books', 'Reference']</td>\n",
              "      <td>Review Notes and Study Guide to  Conrad's Vict...</td>\n",
              "      <td>[]</td>\n",
              "      <td>Ken Sobol</td>\n",
              "      <td>2,286,014 in Books (</td>\n",
              "      <td>[]</td>\n",
              "      <td>Books</td>\n",
              "      <td>8.07</td>\n",
              "      <td>B000QCDE5A</td>\n",
              "      <td>{'Paperback:': '142 pages', 'Publisher:': 'Mon...</td>\n",
              "      <td>A CRITICAL GUIDE BY MONARCH NOTES.</td>\n",
              "    </tr>\n",
              "    <tr>\n",
              "      <th>4572</th>\n",
              "      <td>[]</td>\n",
              "      <td>Simon's Cat va al veterinario</td>\n",
              "      <td>[]</td>\n",
              "      <td>Simon Tofield</td>\n",
              "      <td>7,769,270 in Books (</td>\n",
              "      <td>[]</td>\n",
              "      <td>Books</td>\n",
              "      <td>15.18</td>\n",
              "      <td>8416261865</td>\n",
              "      <td>{'Publisher:': 'Duomo Ediciones (October 1, 20...</td>\n",
              "      <td>Brand New. Ship worldwide</td>\n",
              "    </tr>\n",
              "    <tr>\n",
              "      <th>636</th>\n",
              "      <td>['Books', 'Arts &amp;amp; Photography', 'Decorativ...</td>\n",
              "      <td>Taisho Kimono: Speaking of Past and Present</td>\n",
              "      <td>['4756246354']</td>\n",
              "      <td>Visit Amazon's Jan Dees Page</td>\n",
              "      <td>2,053,979 in Books (</td>\n",
              "      <td>[]</td>\n",
              "      <td>Books</td>\n",
              "      <td>51.75</td>\n",
              "      <td>8857200116</td>\n",
              "      <td>{'Hardcover:': '292 pages', 'Publisher:': 'Ski...</td>\n",
              "      <td>A unique collection of 130 kimonos for women, ...</td>\n",
              "    </tr>\n",
              "  </tbody>\n",
              "</table>\n",
              "</div>"
            ],
            "text/plain": [
              "                                               category  \\\n",
              "398                                                  []   \n",
              "3833                                                 []   \n",
              "4836                             ['Books', 'Reference']   \n",
              "4572                                                 []   \n",
              "636   ['Books', 'Arts &amp; Photography', 'Decorativ...   \n",
              "\n",
              "                                                  title  \\\n",
              "398                       Every Last One (Audiobook CD)   \n",
              "3833                                          Books\" />   \n",
              "4836  Review Notes and Study Guide to  Conrad's Vict...   \n",
              "4572                      Simon's Cat va al veterinario   \n",
              "636         Taisho Kimono: Speaking of Past and Present   \n",
              "\n",
              "                                               also_buy  \\\n",
              "398   ['1491546336', '1600244041', '1524754668', '14...   \n",
              "3833  ['0441810764', '0312863551', '0441094996', '04...   \n",
              "4836                                                 []   \n",
              "4572                                                 []   \n",
              "636                                      ['4756246354']   \n",
              "\n",
              "                                    brand                  rank  \\\n",
              "398   Visit Amazon's -Anna Quindlen- Page  6,392,575 in Books (   \n",
              "3833                    Robert A Heinlein  4,893,400 in Books (   \n",
              "4836                            Ken Sobol  2,286,014 in Books (   \n",
              "4572                        Simon Tofield  7,769,270 in Books (   \n",
              "636          Visit Amazon's Jan Dees Page  2,053,979 in Books (   \n",
              "\n",
              "                                              also_view main_cat  Price  \\\n",
              "398   ['0812985907', '0525509879', '0812976185', '08...    Books  23.84   \n",
              "3833  ['0441810764', '0312863551', '0671577808', '04...    Books   6.74   \n",
              "4836                                                 []    Books   8.07   \n",
              "4572                                                 []    Books  15.18   \n",
              "636                                                  []    Books  51.75   \n",
              "\n",
              "            asin                                            details  \\\n",
              "398   B003SFS8F8  {'Publisher:': 'Unabridged edition; Unabridged...   \n",
              "3833  B001R2GZA4  {'Publisher:': 'SIGNET BOOKS (1900)', 'ASIN:':...   \n",
              "4836  B000QCDE5A  {'Paperback:': '142 pages', 'Publisher:': 'Mon...   \n",
              "4572  8416261865  {'Publisher:': 'Duomo Ediciones (October 1, 20...   \n",
              "636   8857200116  {'Hardcover:': '292 pages', 'Publisher:': 'Ski...   \n",
              "\n",
              "                                      descriptionstring  \n",
              "398   The latest novel from Pulitzer Prize-winner An...  \n",
              "3833                     Classic science fiction novel.  \n",
              "4836                 A CRITICAL GUIDE BY MONARCH NOTES.  \n",
              "4572                          Brand New. Ship worldwide  \n",
              "636   A unique collection of 130 kimonos for women, ...  "
            ]
          },
          "execution_count": 9,
          "metadata": {},
          "output_type": "execute_result"
        }
      ],
      "source": [
        "# Sampling 1,000\n",
        "# Try setting the subsample_size to a much larger value to see what happens during training\n",
        "subsample_size = 1000  # Sample a subset of the data for faster demo\n",
        "df_train_smaller = df_train.sample(n=subsample_size, random_state=0)\n",
        "\n",
        "# Print the first few rows\n",
        "df_train_smaller.head()"
      ]
    },
    {
      "cell_type": "markdown",
      "metadata": {
        "id": "oft5KmjUS-yI"
      },
      "source": [
        "<div style=\"border: 4px solid coral; text-align: center; margin: auto;\">\n",
        "    <h3><i>It's time to check your knowledge!</i></h3>\n",
        "    <br>\n",
        "    <p style=\" text-align: center; margin: auto;\">To load the question, run the following cell.</p>\n",
        "    <br>\n",
        "</div>"
      ]
    },
    {
      "cell_type": "code",
      "execution_count": 10,
      "metadata": {
        "id": "AEMSme74S-yI"
      },
      "outputs": [],
      "source": [
        "# Run this cell for a knowledge check question\n"
      ]
    },
    {
      "cell_type": "markdown",
      "metadata": {
        "id": "HZugdIRVS-yI"
      },
      "source": [
        "### Training a model with a small sample\n",
        "\n",
        "AutoGluon uses certain defaults. For example, AutoGluon uses `root_mean_squared_error` as an evaluation metric for regression problems. For more information, see [sklearn.metrics](https://scikit-learn.org/stable/modules/classes.html#sklearn-metrics-metrics) in the sklearn documentation.\n",
        "\n",
        "__Note:__ Training on this smaller dataset will take approximately 3–4 minutes."
      ]
    },
    {
      "cell_type": "markdown",
      "metadata": {
        "id": "bPTQ6Es-S-yJ"
      },
      "source": [
        "<div style=\"border: 4px solid coral; text-align: center; margin: auto;\">\n",
        "    <h3><i>Try it yourself!</i></h3>\n",
        "    <br>\n",
        "    <p style=\"text-align:center;margin:auto;\"><img src=\"images/activity.png\" alt=\"Activity\" width=\"100\" /> </p>\n",
        "    <p style=\" text-align: center; margin: auto;\">Use `TabularPredictor` to train the first version of the model along with the smaller 1000 sample training dataset so the model trains faster.<br>\n",
        "</p>\n",
        "    <br>\n",
        "</div>"
      ]
    },
    {
      "cell_type": "code",
      "execution_count": 11,
      "metadata": {
        "id": "z03l6OhpS-yJ"
      },
      "outputs": [
        {
          "name": "stderr",
          "output_type": "stream",
          "text": [
            "No path specified. Models will be saved in: \"AutogluonModels/ag-20250920_170815\"\n",
            "Verbosity: 2 (Standard Logging)\n",
            "=================== System Info ===================\n",
            "AutoGluon Version:  1.4.0\n",
            "Python Version:     3.10.16\n",
            "Operating System:   Darwin\n",
            "Platform Machine:   arm64\n",
            "Platform Version:   Darwin Kernel Version 25.0.0: Mon Aug 25 21:16:39 PDT 2025; root:xnu-12377.1.9~3/RELEASE_ARM64_T6031\n",
            "CPU Count:          16\n",
            "Memory Avail:       25.69 GB / 48.00 GB (53.5%)\n",
            "Disk Space Avail:   136.45 GB / 926.35 GB (14.7%)\n",
            "===================================================\n",
            "No presets specified! To achieve strong results with AutoGluon, it is recommended to use the available presets. Defaulting to `'medium'`...\n",
            "\tRecommended Presets (For more details refer to https://auto.gluon.ai/stable/tutorials/tabular/tabular-essentials.html#presets):\n",
            "\tpresets='extreme' : New in v1.4: Massively better than 'best' on datasets <30000 samples by using new models meta-learned on https://tabarena.ai: TabPFNv2, TabICL, Mitra, and TabM. Absolute best accuracy. Requires a GPU. Recommended 64 GB CPU memory and 32+ GB GPU memory.\n",
            "\tpresets='best'    : Maximize accuracy. Recommended for most users. Use in competitions and benchmarks.\n",
            "\tpresets='high'    : Strong accuracy with fast inference speed.\n",
            "\tpresets='good'    : Good accuracy with very fast inference speed.\n",
            "\tpresets='medium'  : Fast training time, ideal for initial prototyping.\n",
            "Using hyperparameters preset: hyperparameters='default'\n",
            "Beginning AutoGluon training ...\n",
            "AutoGluon will save models to \"/Users/martin.demel/Desktop/HCC/FALL 2025/ITAI 1371 - Intro ML/Module 4/A04 colab/AutogluonModels/ag-20250920_170815\"\n",
            "Train Data Rows:    1000\n",
            "Train Data Columns: 10\n",
            "Label Column:       Price\n",
            "AutoGluon infers your prediction problem is: 'regression' (because dtype of label-column == float and many unique label-values observed).\n",
            "\tLabel info (max, min, mean, stddev): (2326.87, 0.0, 39.77738, 123.6481)\n",
            "\tIf 'regression' is not the correct problem_type, please manually specify the problem_type parameter during Predictor init (You may specify problem_type as one of: ['binary', 'multiclass', 'regression', 'quantile'])\n",
            "Problem Type:       regression\n",
            "Preprocessing data ...\n",
            "Using Feature Generators to preprocess the data ...\n",
            "Fitting AutoMLPipelineFeatureGenerator...\n",
            "\tAvailable Memory:                    26304.58 MB\n",
            "\tTrain Data (Original)  Memory Usage: 1.34 MB (0.0% of available memory)\n",
            "\tInferring data type of each feature based on column values. Set feature_metadata_in to manually specify special dtypes of the features.\n",
            "\tStage 1 Generators:\n",
            "\t\tFitting AsTypeFeatureGenerator...\n",
            "\tStage 2 Generators:\n",
            "\t\tFitting FillNaFeatureGenerator...\n",
            "\tStage 3 Generators:\n",
            "\t\tFitting CategoryFeatureGenerator...\n",
            "\t\t\tFitting CategoryMemoryMinimizeFeatureGenerator...\n",
            "\t\tFitting TextSpecialFeatureGenerator...\n",
            "\t\t\tFitting BinnedFeatureGenerator...\n",
            "\t\t\tFitting DropDuplicatesFeatureGenerator...\n",
            "\t\tFitting TextNgramFeatureGenerator...\n",
            "\t\t\tFitting CountVectorizer for text features: ['category', 'title', 'also_buy', 'brand', 'rank', 'also_view', 'details', 'descriptionstring']\n",
            "\t\t\tCountVectorizer fit with vocabulary size = 336\n",
            "\tStage 4 Generators:\n",
            "\t\tFitting DropUniqueFeatureGenerator...\n",
            "\tStage 5 Generators:\n",
            "\t\tFitting DropDuplicatesFeatureGenerator...\n",
            "\tUnused Original Features (Count: 1): ['asin']\n",
            "\t\tThese features were not used to generate any of the output features. Add a feature generator compatible with these features to utilize them.\n",
            "\t\tFeatures can also be unused if they carry very little information, such as being categorical but having almost entirely unique values or being duplicates of other features.\n",
            "\t\tThese features do not need to be present at inference time.\n",
            "\t\t('object', []) : 1 | ['asin']\n",
            "\tTypes of features in original data (raw dtype, special dtypes):\n",
            "\t\t('object', [])       : 1 | ['main_cat']\n",
            "\t\t('object', ['text']) : 8 | ['category', 'title', 'also_buy', 'brand', 'rank', ...]\n",
            "\tTypes of features in processed data (raw dtype, special dtypes):\n",
            "\t\t('category', [])                    :   1 | ['main_cat']\n",
            "\t\t('category', ['text_as_category'])  :   8 | ['category', 'title', 'also_buy', 'brand', 'rank', ...]\n",
            "\t\t('int', ['binned', 'text_special']) : 111 | ['category.char_count', 'category.word_count', 'category.capital_ratio', 'category.lower_ratio', 'category.special_ratio', ...]\n",
            "\t\t('int', ['text_ngram'])             : 321 | ['__nlp__.10', '__nlp__.10 inches', '__nlp__.10 inches shipping', '__nlp__.100', '__nlp__.11', ...]\n",
            "\t2.1s = Fit runtime\n",
            "\t9 features in original data used to generate 441 features in processed data.\n",
            "\tTrain Data (Processed) Memory Usage: 0.73 MB (0.0% of available memory)\n",
            "Data preprocessing and feature engineering runtime = 2.12s ...\n",
            "AutoGluon will gauge predictive performance using evaluation metric: 'mean_squared_error'\n",
            "\tThis metric's sign has been flipped to adhere to being higher_is_better. The metric score can be multiplied by -1 to get the metric value.\n",
            "\tTo change this, specify the eval_metric parameter of Predictor()\n",
            "Automatically generating train/validation split with holdout_frac=0.2, Train Rows: 800, Val Rows: 200\n",
            "User-specified model hyperparameters to be fit:\n",
            "{\n",
            "\t'NN_TORCH': [{}],\n",
            "\t'GBM': [{'extra_trees': True, 'ag_args': {'name_suffix': 'XT'}}, {}, {'learning_rate': 0.03, 'num_leaves': 128, 'feature_fraction': 0.9, 'min_data_in_leaf': 3, 'ag_args': {'name_suffix': 'Large', 'priority': 0, 'hyperparameter_tune_kwargs': None}}],\n",
            "\t'CAT': [{}],\n",
            "\t'XGB': [{}],\n",
            "\t'FASTAI': [{}],\n",
            "\t'RF': [{'criterion': 'gini', 'ag_args': {'name_suffix': 'Gini', 'problem_types': ['binary', 'multiclass']}}, {'criterion': 'entropy', 'ag_args': {'name_suffix': 'Entr', 'problem_types': ['binary', 'multiclass']}}, {'criterion': 'squared_error', 'ag_args': {'name_suffix': 'MSE', 'problem_types': ['regression', 'quantile']}}],\n",
            "\t'XT': [{'criterion': 'gini', 'ag_args': {'name_suffix': 'Gini', 'problem_types': ['binary', 'multiclass']}}, {'criterion': 'entropy', 'ag_args': {'name_suffix': 'Entr', 'problem_types': ['binary', 'multiclass']}}, {'criterion': 'squared_error', 'ag_args': {'name_suffix': 'MSE', 'problem_types': ['regression', 'quantile']}}],\n",
            "}\n",
            "Fitting 9 L1 models, fit_strategy=\"sequential\" ...\n",
            "Fitting model: LightGBMXT ...\n",
            "\tFitting with cpus=16, gpus=0, mem=0.1/25.3 GB\n",
            "\t-3911.5212\t = Validation score   (-mean_squared_error)\n",
            "\t7.48s\t = Training   runtime\n",
            "\t0.0s\t = Validation runtime\n",
            "Fitting model: LightGBM ...\n",
            "\tFitting with cpus=16, gpus=0, mem=0.1/25.8 GB\n",
            "\t-3922.4337\t = Validation score   (-mean_squared_error)\n",
            "\t0.68s\t = Training   runtime\n",
            "\t0.0s\t = Validation runtime\n",
            "Fitting model: RandomForestMSE ...\n",
            "\tFitting with cpus=16, gpus=0\n",
            "\t-10175.2609\t = Validation score   (-mean_squared_error)\n",
            "\t1.55s\t = Training   runtime\n",
            "\t0.03s\t = Validation runtime\n",
            "Fitting model: CatBoost ...\n",
            "\tFitting with cpus=16, gpus=0\n",
            "\t-3895.0996\t = Validation score   (-mean_squared_error)\n",
            "\t2.65s\t = Training   runtime\n",
            "\t0.01s\t = Validation runtime\n",
            "Fitting model: ExtraTreesMSE ...\n",
            "\tFitting with cpus=16, gpus=0\n",
            "\t-5874.649\t = Validation score   (-mean_squared_error)\n",
            "\t0.63s\t = Training   runtime\n",
            "\t0.03s\t = Validation runtime\n",
            "Fitting model: NeuralNetFastAI ...\n",
            "\tFitting with cpus=16, gpus=0, mem=0.0/25.3 GB\n",
            "No improvement since epoch 1: early stopping\n",
            "\t-4369.4698\t = Validation score   (-mean_squared_error)\n",
            "\t0.65s\t = Training   runtime\n",
            "\t0.0s\t = Validation runtime\n",
            "Fitting model: XGBoost ...\n",
            "\tFitting with cpus=16, gpus=0\n",
            "\t-3955.1206\t = Validation score   (-mean_squared_error)\n",
            "\t0.58s\t = Training   runtime\n",
            "\t0.0s\t = Validation runtime\n",
            "Fitting model: NeuralNetTorch ...\n",
            "\tFitting with cpus=16, gpus=0, mem=0.0/25.3 GB\n",
            "/Users/martin.demel/myenv3.10/lib/python3.10/site-packages/sklearn/compose/_column_transformer.py:975: FutureWarning: The parameter `force_int_remainder_cols` is deprecated and will be removed in 1.9. It has no effect. Leave it to its default value to avoid this warning.\n",
            "  warnings.warn(\n",
            "\t-3868.4783\t = Validation score   (-mean_squared_error)\n",
            "\t1.66s\t = Training   runtime\n",
            "\t0.01s\t = Validation runtime\n",
            "Fitting model: LightGBMLarge ...\n",
            "\tFitting with cpus=16, gpus=0, mem=0.3/25.3 GB\n",
            "\t-3928.809\t = Validation score   (-mean_squared_error)\n",
            "\t6.17s\t = Training   runtime\n",
            "\t0.0s\t = Validation runtime\n",
            "Fitting model: WeightedEnsemble_L2 ...\n",
            "\tEnsemble Weights: {'NeuralNetTorch': 0.533, 'CatBoost': 0.467}\n",
            "\t-3780.2518\t = Validation score   (-mean_squared_error)\n",
            "\t0.02s\t = Training   runtime\n",
            "\t0.0s\t = Validation runtime\n",
            "AutoGluon training complete, total runtime = 24.35s ... Best model: WeightedEnsemble_L2 | Estimated inference throughput: 10138.4 rows/s (200 batch size)\n",
            "TabularPredictor saved. To load, use: predictor = TabularPredictor.load(\"/Users/martin.demel/Desktop/HCC/FALL 2025/ITAI 1371 - Intro ML/Module 4/A04 colab/AutogluonModels/ag-20250920_170815\")\n"
          ]
        }
      ],
      "source": [
        "# Run this cell\n",
        "\n",
        "smaller_predictor = TabularPredictor(label=\"Price\", eval_metric = 'mean_squared_error').fit(train_data=df_train_smaller)"
      ]
    },
    {
      "cell_type": "markdown",
      "metadata": {
        "id": "X8aTt04nS-yJ"
      },
      "source": [
        "### Interpreting the training output\n",
        "AutoGluon outputs a lot of information about what happens during model training."
      ]
    },
    {
      "cell_type": "markdown",
      "metadata": {
        "id": "BK4KhQokS-yJ"
      },
      "source": [
        "<div style=\"border: 4px solid coral; text-align: center; margin: auto;\">\n",
        "    <h3><i>Try it yourself!</i></h3>\n",
        "    <p style=\"text-align:center; margin:auto;\"><img src=\"images/challenge.png\" alt=\"Activity\" width=\"100\" /> </p>\n",
        "    <p style=\" text-align: center; margin: auto;\">After the training finishes, examine the output and answer the following questions based on the output.</p>\n",
        "    <br>\n",
        "</div>\n"
      ]
    },
    {
      "cell_type": "markdown",
      "metadata": {
        "id": "fD0OcYeWS-yJ"
      },
      "source": [
        "1. What is the shape of the training dataset?\n",
        "2. What type of ML problem (such as classification or regression) does AutoGluon infer? (**Hint:** Remember, you didn't mention the problem type. You only provided the label column.)\n",
        "3. What does AutoGluon suggest in case it inferred the wrong problem type?\n",
        "4. What kind of data preprocessing and feature engineering did AutoGluon perform?\n",
        "5. What are the basic statistics about the label in the print statements from AutoGluon?\n",
        "6. How many extra features were generated in addition to the originals in the dataset? What was the runtime for that?\n",
        "7. Which evaluation metric was used?\n",
        "8. What does AutoGluon suggest in case it inferred the wrong metric?\n",
        "9. What is the ratio between the training and validation dataset? (**Hint:** Look for `val` or `validation`.)\n",
        "10. Where did AutoGluon save the predictor?\n",
        "11. Which folder were the models saved in?\n",
        "12. What file format are the models in? (**Note:** Look at the file name suffix. You don't need to open the file.)\n",
        "\n",
        "Try to answer these questions before you check the solution."
      ]
    },
    {
      "cell_type": "markdown",
      "metadata": {
        "id": "x0S7vGYhS-yJ"
      },
      "source": [
        "### List your answers here: \n",
        "\n",
        "1. \tThe training dataset has 1,000 rows and 10 columns. \n",
        "\n",
        "2. AutoGluon inferred this is a regression problem. \n",
        "\n",
        "3. The AutoGluon suggest: \tIf 'regression' is not the correct problem_type, please manually specify the problem_type parameter during Predictor init (You may specify problem_type as one of: ['binary', 'multiclass', 'regression', 'quantile']) \n",
        "\n",
        "4. AutoGluon applied AsType, FillNa, and Category generators with memory minimization, then created text special and binned features, removed duplicates, and built text ngram features with a CountVectorizer of size 336. The asin column was not used. \n",
        "\n",
        "5. The basic statistics are: (max 2326.87,min 0.0,mean 39.77738,std 123.6481) \n",
        "\n",
        "6. We had 432 extra features. From 9 to 441. The runtime was 2.12s. 7. The mean_squared_error evaluation metric was used. \n",
        "\n",
        "8. The Autogluon suggest to specify eval_metric in Predictor(), multiply by -1 to get raw MSE value. \n",
        "\n",
        "9. The split was 800 training rows and 200 validation rows, a 4 to 1 ratio (holdout fraction 0.2). \n",
        "\n",
        "10. The predictor was saved in my subfolder: /Module 4/A04 colab/AutogluonModels/ag-20250920_170815 \n",
        "\n",
        "11. The models were saved in subfolder: AutogluonModels/ag-20250920_170815 \n",
        "\n",
        "12. the file format for the models is .pkl file format."
      ]
    },
    {
      "cell_type": "markdown",
      "metadata": {
        "id": "Jyqk9vhOS-yJ"
      },
      "source": [
        "<!-- SOLUTION -->\n",
        "### Solution\n",
        "\n",
        "In the following images, the arrows indicate where in the output you can find the answers to the questions. The numbers on the arrows correspond to the numbers of the questions in the previous cell.\n",
        "\n",
        "<p style=\"padding: 10px; border: 1px solid black;\">\n",
        "<img src=\"./images/lab3_01.png\"  width=\"900\" height=auto>\n",
        "<p style=\"padding: 10px; border: 1px solid black;\">\n",
        "<img src=\"./images/lab3_02.png\"  width=\"900\" height=auto>\n",
        "<p style=\"padding: 10px; border: 1px solid black;\">\n",
        "<img src=\"./images/lab3_03.png\"  width=\"900\" height=auto>\n",
        "<p style=\"padding: 10px; border: 1px solid black;\">\n",
        "<img src=\"./images/lab3_04.png\"  width=\"900\" height=auto>\n",
        "\n",
        "<!-- END SOLUTION -->"
      ]
    },
    {
      "cell_type": "markdown",
      "metadata": {
        "id": "zHWzTiWSS-yJ"
      },
      "source": [
        "----\n",
        "## Conclusion\n",
        "\n",
        "The purpose of this notebook was to explore a dataset of information about books and to use AutoGluon to build a basic model to predict book prices based on book features.\n",
        "\n",
        "## Next lab\n",
        "In the next lab, you will learn how to use AutoGluon features to refine your model."
      ]
    }
  ],
  "metadata": {
    "colab": {
      "provenance": []
    },
    "kernelspec": {
      "display_name": "myenv3.10",
      "language": "python",
      "name": "python3"
    },
    "language_info": {
      "codemirror_mode": {
        "name": "ipython",
        "version": 3
      },
      "file_extension": ".py",
      "mimetype": "text/x-python",
      "name": "python",
      "nbconvert_exporter": "python",
      "pygments_lexer": "ipython3",
      "version": "3.10.16"
    },
    "toc": {
      "base_numbering": 1,
      "nav_menu": {},
      "number_sections": true,
      "sideBar": true,
      "skip_h1_title": false,
      "title_cell": "Table of Contents",
      "title_sidebar": "Contents",
      "toc_cell": false,
      "toc_position": {},
      "toc_section_display": true,
      "toc_window_display": false
    }
  },
  "nbformat": 4,
  "nbformat_minor": 0
}
